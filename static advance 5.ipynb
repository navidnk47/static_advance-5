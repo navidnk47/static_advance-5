{
  "metadata": {
    "kernelspec": {
      "name": "python",
      "display_name": "Python (Pyodide)",
      "language": "python"
    },
    "language_info": {
      "codemirror_mode": {
        "name": "python",
        "version": 3
      },
      "file_extension": ".py",
      "mimetype": "text/x-python",
      "name": "python",
      "nbconvert_exporter": "python",
      "pygments_lexer": "ipython3",
      "version": "3.8"
    }
  },
  "nbformat_minor": 5,
  "nbformat": 4,
  "cells": [
    {
      "id": "6696f2f1-ba63-494b-9fcc-5dac992886e6",
      "cell_type": "code",
      "source": "Q1. Calculate the 95% confidence interval for a sample of data with a mean of 50 and a standard deviation of 5 using Python. Interpret the results.",
      "metadata": {
        "trusted": true
      },
      "outputs": [],
      "execution_count": null
    },
    {
      "id": "843d7e3c-f97f-4f3b-8b0d-080b5b6823cf",
      "cell_type": "code",
      "source": "import math\nimport scipy.stats as st\n\n# Given values\nmean = 50\nstd_dev = 5\nn = 30  # Assuming a sample size of 30\nconfidence_level = 0.95\n\n# Calculate the standard error\nstandard_error = std_dev / math.sqrt(n)\n\n# Find the z-score for the 95% confidence level\nz_score = st.norm.ppf((1 + confidence_level) / 2)\n\n# Calculate the margin of error\nmargin_of_error = z_score * standard_error\n\n# Calculate the confidence interval\nconfidence_interval = (mean - margin_of_error, mean + margin_of_error)\n\nconfidence_interval",
      "metadata": {
        "trusted": true
      },
      "outputs": [
        {
          "execution_count": 1,
          "output_type": "execute_result",
          "data": {
            "text/plain": "(np.float64(48.210805856282846), np.float64(51.789194143717154))"
          },
          "metadata": {}
        }
      ],
      "execution_count": 1
    },
    {
      "id": "26d4a4f0-6943-45d0-ba19-85f7fc0c8af0",
      "cell_type": "code",
      "source": "",
      "metadata": {
        "trusted": true
      },
      "outputs": [],
      "execution_count": null
    },
    {
      "id": "0e45297a-5c10-4690-80a9-4d4e6fc10e49",
      "cell_type": "code",
      "source": "Q2. Conduct a chi-square goodness of fit test to determine if the distribution of colors of M&Ms in a bag matches the expected distribution of 20% blue, 20% orange, 20% green, 10% yellow, 10% red, and 20% brown. Use Python to perform the test with a significance level of 0.05.",
      "metadata": {
        "trusted": true
      },
      "outputs": [],
      "execution_count": null
    },
    {
      "id": "993bfdf8-0e5a-4603-8b2d-0e8c22f4983f",
      "cell_type": "code",
      "source": "ANSWER:---\n\nTo conduct a chi-square goodness of fit test, we need to compare the observed frequencies of the M&M colors with the expected frequencies based on the given distribution. The steps are as follows:\n\nDefine the observed frequencies for each color.\nDefine the expected frequencies for each color based on the expected distribution.\nUse the chi-square goodness of fit test to compare the observed and expected frequencies.\nThe null hypothesis ((H_0)) for the chi-square goodness of fit test is that the observed distribution matches the expected distribution. The alternative hypothesis ((H_a)) is that the observed distribution does not match the expected distribution.\n\nThe chi-square statistic is calculated using the formula:\n\n[ \\chi^2 = \\sum \\frac{(O_i - E_i)^2}{E_i} ]\n\nWhere:\n\n(O_i) is the observed frequency for category (i).\n(E_i) is the expected frequency for category (i).\nGiven the expected distribution:\n\nBlue: 20%\nOrange: 20%\nGreen: 20%\nYellow: 10%\nRed: 10%\nBrown: 20%\nLet's assume we have the following observed frequencies for a sample bag of M&Ms:\n\nBlue: 18\nOrange: 22\nGreen: 20\nYellow: 10\nRed: 8\nBrown: 22",
      "metadata": {
        "trusted": true
      },
      "outputs": [],
      "execution_count": null
    },
    {
      "id": "791e6165-d408-45a6-8747-d56b76515e00",
      "cell_type": "code",
      "source": "import scipy.stats as stats\n\n# Observed frequencies\nobserved = [18, 22, 20, 10, 8, 22]\n\n# Total number of observed M&Ms\ntotal_mms = sum(observed)\n\n# Expected frequencies based on the given distribution\nexpected_distribution = [0.2, 0.2, 0.2, 0.1, 0.1, 0.2]\nexpected = [total_mms * p for p in expected_distribution]\n\n# Perform the chi-square goodness of fit test\nchi_square_stat, p_value = stats.chisquare(observed, f_exp=expected)\n\nchi_square_stat, p_value",
      "metadata": {
        "trusted": true
      },
      "outputs": [
        {
          "execution_count": 2,
          "output_type": "execute_result",
          "data": {
            "text/plain": "(np.float64(1.0), np.float64(0.9625657732472964))"
          },
          "metadata": {}
        }
      ],
      "execution_count": 2
    },
    {
      "id": "cfce964e-b992-4200-9607-c2e10192cadc",
      "cell_type": "code",
      "source": "Interpretation\nAt a significance level of (0.05):\n\nNull hypothesis ((H_0)): The distribution of colors of M&Ms in the bag matches the expected distribution.\nAlternative hypothesis ((H_a)): The distribution of colors of M&Ms in the bag does not match the expected distribution.\nSince the p-value ((0.963)) is much greater than the significance level ((0.05)), we fail to reject the null hypothesis. This means that there is not enough evidence to conclude that the observed distribution of M&M colors differs from the expected distribution. Thus, the observed distribution of colors in the bag of M&Ms matches the expected distribution.",
      "metadata": {
        "trusted": true
      },
      "outputs": [],
      "execution_count": null
    },
    {
      "id": "0299c04d-13a9-423d-a3f8-e15395eed57b",
      "cell_type": "code",
      "source": "",
      "metadata": {
        "trusted": true
      },
      "outputs": [],
      "execution_count": null
    },
    {
      "id": "0dc053e0-8b28-4fe4-b5b9-9f8907e0c99e",
      "cell_type": "code",
      "source": "Q3. Use Python to calculate the chi-square statistic and p-value for a contingency table with the following data:\n\n       GROUP  GROUP\n         A      B\nOutcome 1 20 15\n\nOutcome 2 10 25\n\nOutcome 3 15 20\n\nInterpret the results of the test.\n\n",
      "metadata": {
        "trusted": true
      },
      "outputs": [],
      "execution_count": null
    },
    {
      "id": "5b789842-36d1-4e62-8d95-8e09dc39ae62",
      "cell_type": "code",
      "source": "import scipy.stats as stats\n\n# Observed frequencies\nobserved = [\n    [20, 15],\n    [10, 25],\n    [15, 20]\n]\n\n# Perform the chi-square test of independence\nchi2_stat, p_val, dof, expected = stats.chi2_contingency(observed)\n\nchi2_stat, p_val, dof, expected",
      "metadata": {
        "trusted": true
      },
      "outputs": [
        {
          "execution_count": 3,
          "output_type": "execute_result",
          "data": {
            "text/plain": "(np.float64(5.833333333333334),\n np.float64(0.05411376622282158),\n 2,\n array([[15., 20.],\n        [15., 20.],\n        [15., 20.]]))"
          },
          "metadata": {}
        }
      ],
      "execution_count": 3
    },
    {
      "id": "7f64fe91-eea1-4439-b104-e07b79c6e9f4",
      "cell_type": "code",
      "source": "Interpretation\nAt a significance level of (0.05):\n\nNull hypothesis ((H_0)): There is no significant association between the group and the outcome.\nAlternative hypothesis ((H_a)): There is a significant association between the group and the outcome.\nSince the p-value ((0.054)) is slightly above the significance level ((0.05)), we fail to reject the null hypothesis at the (0.05) significance level. This means there is not enough evidence to conclude that there is a significant association between the group and the outcome. However, the p-value is very close to (0.05), suggesting that the result is marginal and might be considered significant in some contexts, especially if a slightly higher significance level (e.g., (0.10)) is acceptable.",
      "metadata": {
        "trusted": true
      },
      "outputs": [],
      "execution_count": null
    },
    {
      "id": "258fc4de-c66b-4428-ac6d-d15f55db11d4",
      "cell_type": "code",
      "source": "",
      "metadata": {
        "trusted": true
      },
      "outputs": [],
      "execution_count": null
    },
    {
      "id": "714305bc-e85d-4980-a774-98e8b1f7949f",
      "cell_type": "code",
      "source": "Q4. A study of the prevalence of smoking in a population of 500 individuals found that 60 individuals smoked. Use Python to calculate the 95% confidence interval for the true proportion of individuals in the population who smoke.",
      "metadata": {
        "trusted": true
      },
      "outputs": [],
      "execution_count": null
    },
    {
      "id": "ab6650b2-3f17-440e-addb-07c939ab4cc2",
      "cell_type": "code",
      "source": "ANSWER:---\n\nTo calculate the 95% confidence interval for the true proportion of individuals who smoke in a population, we can use the formula for the confidence interval of a proportion:\n\n[ \\text{CI} = \\hat{p} \\pm z \\sqrt{\\frac{\\hat{p}(1 - \\hat{p})}{n}} ]\n\nWhere:\n\n(\\hat{p}) is the sample proportion.\n(z) is the z-score corresponding to the desired confidence level.\n(n) is the sample size.\nGiven:\n\nNumber of individuals ((n)) = 500\nNumber of smokers = 60\nThe sample proportion ((\\hat{p})) is calculated as:\n\n[ \\hat{p} = \\frac{\\text{number of smokers}}{\\text{total number of individuals}} = \\frac{60}{500} = 0.12 ]\n\nFor a 95% confidence level, the z-score is approximately 1.96.\n\nCalculate the sample proportion: [ \\hat{p} = \\frac{60}{500} = 0.12 ]\n\nFind the z-score for a 95% confidence level (approximately 1.96).\n\nCalculate the standard error: [ \\text{SE} = \\sqrt{\\frac{\\hat{p}(1 - \\hat{p})}{n}} = \\sqrt{\\frac{0.12 \\times 0.88}{500}} \\approx 0.0145 ]\n\nCalculate the margin of error: [ \\text{ME} = z \\times \\text{SE} = 1.96 \\times 0.0145 \\approx 0.0284 ]\n\nCalculate the confidence interval: [ \\text{CI} = \\hat{p} \\pm \\text{ME} = 0.12 \\pm 0.0284 ]\n\nSo, the 95% confidence interval is approximately (0.0916, 0.1484). This means we are 95% confident that the true proportion of smokers in the population lies between 9.16% and 14.84%.\n\n",
      "metadata": {
        "trusted": true
      },
      "outputs": [
        {
          "ename": "<class 'SyntaxError'>",
          "evalue": "invalid syntax (<ipython-input-4-7eb5185f69d3>, line 1)",
          "traceback": [
            "\u001b[0;36m  Cell \u001b[0;32mIn[4], line 1\u001b[0;36m\u001b[0m\n\u001b[0;31m    ANSWER:---\u001b[0m\n\u001b[0m              ^\u001b[0m\n\u001b[0;31mSyntaxError\u001b[0m\u001b[0;31m:\u001b[0m invalid syntax\n"
          ],
          "output_type": "error"
        }
      ],
      "execution_count": 4
    },
    {
      "id": "d2450a58-33da-4cf5-83da-34d120cbf26b",
      "cell_type": "code",
      "source": "import math\nimport scipy.stats as st\n\n# Given values\nn = 500\nnumber_of_smokers = 60\n\n# Sample proportion\np_hat = number_of_smokers / n\n\n# Confidence level\nconfidence_level = 0.95\nz_score = st.norm.ppf((1 + confidence_level) / 2)\n\n# Standard error\nstandard_error = math.sqrt(p_hat * (1 - p_hat) / n)\n\n# Margin of error\nmargin_of_error = z_score * standard_error\n\n# Confidence interval\nconfidence_interval = (p_hat - margin_of_error, p_hat + margin_of_error)\n\nconfidence_interval\n",
      "metadata": {
        "trusted": true
      },
      "outputs": [
        {
          "execution_count": 5,
          "output_type": "execute_result",
          "data": {
            "text/plain": "(np.float64(0.09151638887130707), np.float64(0.1484836111286929))"
          },
          "metadata": {}
        }
      ],
      "execution_count": 5
    },
    {
      "id": "8df097cb-0b23-4f73-87d3-42e336c0bdc6",
      "cell_type": "code",
      "source": "",
      "metadata": {
        "trusted": true
      },
      "outputs": [],
      "execution_count": null
    },
    {
      "id": "c78d179c-9e9a-4167-81f8-87b06303285d",
      "cell_type": "code",
      "source": "Q5. Calculate the 90% confidence interval for a sample of data with a mean of 75 and a standard deviation of 12 using Python. Interpret the results.",
      "metadata": {
        "trusted": true
      },
      "outputs": [],
      "execution_count": null
    },
    {
      "id": "6812d558-02a5-414f-bf09-7f5e4105e9fe",
      "cell_type": "code",
      "source": "import math\nimport scipy.stats as st\n\n# Given values\nmean = 75\nstd_dev = 12\nn = 30  # Assuming a sample size of 30\nconfidence_level = 0.90\n\n# Calculate the standard error\nstandard_error = std_dev / math.sqrt(n)\n\n# Find the z-score for the 90% confidence level\nz_score = st.norm.ppf((1 + confidence_level) / 2)\n\n# Calculate the margin of error\nmargin_of_error = z_score * standard_error\n\n# Calculate the confidence interval\nconfidence_interval = (mean - margin_of_error, mean + margin_of_error)\n\nconfidence_interval",
      "metadata": {
        "trusted": true
      },
      "outputs": [
        {
          "execution_count": 6,
          "output_type": "execute_result",
          "data": {
            "text/plain": "(np.float64(71.39630625889797), np.float64(78.60369374110203))"
          },
          "metadata": {}
        }
      ],
      "execution_count": 6
    },
    {
      "id": "497cf970-9643-4e0c-8dfd-6bf86403733c",
      "cell_type": "code",
      "source": "To calculate the 90% confidence interval for a sample with a given mean and standard deviation, we can use the following formula for the confidence interval of the mean:\n\n[ \\text{CI} = \\bar{x} \\pm z \\left( \\frac{\\sigma}{\\sqrt{n}} \\right) ]\n\nWhere:\n\n(\\bar{x}) is the sample mean.\n(z) is the z-score corresponding to the desired confidence level.\n(\\sigma) is the sample standard deviation.\n(n) is the sample size.\nGiven:\n\nSample mean ((\\bar{x})) = 75\nStandard deviation ((\\sigma)) = 12\nDesired confidence level = 90%\nFor a 90% confidence level, the z-score is approximately 1.645. However, to calculate the exact confidence interval, we also need the sample size ((n)). Let's assume a sample size ((n)) of 30 for this example.\n\nCalculate the sample mean ((\\bar{x})): [ \\bar{x} = 75 ]\n\nFind the z-score for a 90% confidence level: For a 90% confidence level, the z-score ((z)) is approximately 1.645.\n\nCalculate the standard error (SE): Given the standard deviation ((\\sigma)) = 12 and the sample size ((n)) = 30: [ \\text{SE} = \\frac{\\sigma}{\\sqrt{n}} = \\frac{12}{\\sqrt{30}} \\approx 2.19 ]\n\nCalculate the margin of error (ME): [ \\text{ME} = z \\times \\text{SE} = 1.645 \\times 2.19 \\approx 3.60 ]\n\nCalculate the confidence interval (CI): [ \\text{CI} = \\bar{x} \\pm \\text{ME} = 75 \\pm 3.60 ]\n\nSo, the 90% confidence interval is approximately (71.40, 78.60).\n\nInterpretation\nThis means that we can be 90% confident that the true population mean lies within the interval 71.40 to 78.60. In other words, if we were to take many samples of the same size from the population and calculate the confidence interval for each sample, approximately 90% of those intervals would contain the true population mean.",
      "metadata": {
        "trusted": true
      },
      "outputs": [],
      "execution_count": null
    },
    {
      "id": "967ba5c2-4be9-4e37-bd28-3435ab0736d8",
      "cell_type": "code",
      "source": "",
      "metadata": {
        "trusted": true
      },
      "outputs": [],
      "execution_count": null
    },
    {
      "id": "77bb1931-c4e6-4e7a-abeb-b378dd84447d",
      "cell_type": "code",
      "source": "Q6. Use Python to plot the chi-square distribution with 10 degrees of freedom. Label the axes and shade the area corresponding to a chi-square statistic of 15.",
      "metadata": {
        "trusted": true
      },
      "outputs": [],
      "execution_count": null
    },
    {
      "id": "e7dd9919-ff4a-4ebc-bba8-c794a7890a7a",
      "cell_type": "code",
      "source": "import numpy as np\nimport matplotlib.pyplot as plt\nimport scipy.stats as stats\n\n# Define degrees of freedom\ndf = 10\n\n# Generate a range of x values\nx = np.linspace(0, 30, 1000)\n\n# Calculate the chi-square probability density function (pdf)\ny = stats.chi2.pdf(x, df)\n\n# Plot the chi-square distribution\nplt.plot(x, y, label=f'Chi-square distribution with {df} degrees of freedom')\n\n# Shade the area corresponding to a chi-square statistic of 15\nx_shade = np.linspace(0, 15, 1000)\ny_shade = stats.chi2.pdf(x_shade, df)\nplt.fill_between(x_shade, y_shade, alpha=0.5, color='lightblue', label='Area for chi-square statistic of 15')\n\n# Add labels and title\nplt.xlabel('Chi-square value')\nplt.ylabel('Probability density')\nplt.title('Chi-square Distribution with 10 Degrees of Freedom')\nplt.legend()\n\n# Show the plot\nplt.show()",
      "metadata": {
        "trusted": true
      },
      "outputs": [
        {
          "name": "stderr",
          "output_type": "stream",
          "text": "Matplotlib is building the font cache; this may take a moment.\n"
        },
        {
          "output_type": "display_data",
          "data": {
            "text/plain": "<Figure size 640x480 with 1 Axes>",
            "image/png": "[encoded data removed]"
          },
          "metadata": {}
        }
      ],
      "execution_count": 7
    },
    {
      "id": "f7fcc0a2-7082-4abb-86a2-91af73cc3007",
      "cell_type": "code",
      "source": "",
      "metadata": {
        "trusted": true
      },
      "outputs": [],
      "execution_count": null
    },
    {
      "id": "ad0e56b8-6d0f-4927-bb52-84983cd42b18",
      "cell_type": "code",
      "source": "Q7. A random sample of 1000 people was asked if they preferred Coke or Pepsi. Of the sample, 520 preferred Coke. Calculate a 99% confidence interval for the true proportion of people in the population who prefer Coke.",
      "metadata": {
        "trusted": true
      },
      "outputs": [],
      "execution_count": null
    },
    {
      "id": "4231db47-0286-4709-8ff0-56a01444c3c5",
      "cell_type": "code",
      "source": "ANSWER:---\n\nTo calculate the 99% confidence interval for the true proportion of people in the population who prefer Coke, we use the formula for the confidence interval of a proportion:\n\n[ \\text{CI} = \\hat{p} \\pm z \\sqrt{\\frac{\\hat{p}(1 - \\hat{p})}{n}} ]\n\nWhere:\n\n(\\hat{p}) is the sample proportion.\n(z) is the z-score corresponding to the desired confidence level.\n(n) is the sample size.\nGiven:\n\nSample size ((n)) = 1000\nNumber of people who prefer Coke = 520\nThe sample proportion ((\\hat{p})) is calculated as: [ \\hat{p} = \\frac{520}{1000} = 0.52 ]\n\nFor a 99% confidence level, the z-score is approximately 2.576.\n\nCalculate the sample proportion: [ \\hat{p} = \\frac{520}{1000} = 0.52 ]\n\nFind the z-score for a 99% confidence level: [ z \\approx 2.576 ]\n\nCalculate the standard error: [ \\text{SE} = \\sqrt{\\frac{\\hat{p}(1 - \\hat{p})}{n}} = \\sqrt{\\frac{0.52 \\times 0.48}{1000}} \\approx 0.0158 ]\n\nCalculate the margin of error: [ \\text{ME} = z \\times \\text{SE} = 2.576 \\times 0.0158 \\approx 0.0407 ]\n\nCalculate the confidence interval: [ \\text{CI} = \\hat{p} \\pm \\text{ME} = 0.52 \\pm 0.0407 ]\n\nSo, the 99% confidence interval is approximately (0.4793, 0.5607).\n\nInterpretation\nThis means that we can be 99% confident that the true proportion of people in the population who prefer Coke lies between 47.93% and 56.07%.",
      "metadata": {
        "trusted": true
      },
      "outputs": [],
      "execution_count": null
    },
    {
      "id": "58ff4369-0d85-4e80-b57e-1c5e0528df05",
      "cell_type": "code",
      "source": "import math\nimport scipy.stats as st\n\n# Given values\nn = 1000\nnumber_of_prefer_coke = 520\n\n# Sample proportion\np_hat = number_of_prefer_coke / n\n\n# Confidence level\nconfidence_level = 0.99\nz_score = st.norm.ppf((1 + confidence_level) / 2)\n\n# Standard error\nstandard_error = math.sqrt(p_hat * (1 - p_hat) / n)\n\n# Margin of error\nmargin_of_error = z_score * standard_error\n\n# Confidence interval\nconfidence_interval = (p_hat - margin_of_error, p_hat + margin_of_error)\n\nconfidence_interval",
      "metadata": {
        "trusted": true
      },
      "outputs": [
        {
          "execution_count": 8,
          "output_type": "execute_result",
          "data": {
            "text/plain": "(np.float64(0.4793051576779699), np.float64(0.5606948423220302))"
          },
          "metadata": {}
        }
      ],
      "execution_count": 8
    },
    {
      "id": "17282b1a-82b0-40d7-8e40-3c98761d71b9",
      "cell_type": "code",
      "source": "",
      "metadata": {
        "trusted": true
      },
      "outputs": [],
      "execution_count": null
    },
    {
      "id": "86437a4a-70ca-4e20-a1f0-826514d37561",
      "cell_type": "code",
      "source": "Q8. A researcher hypothesizes that a coin is biased towards tails. They flip the coin 100 times and observe 45 tails. Conduct a chi-square goodness of fit test to determine if the observed frequencies match the expected frequencies of a fair coin. Use a significance level of 0.05.",
      "metadata": {
        "trusted": true
      },
      "outputs": [],
      "execution_count": null
    },
    {
      "id": "125da7b4-d4c5-4a5d-bc96-08d5cd57b7ac",
      "cell_type": "code",
      "source": "ANSWER:---\n\nTo test the hypothesis that a coin is biased towards tails using a chi-square goodness of fit test, we need to compare the observed frequencies with the expected frequencies for a fair coin.\n\nFor a fair coin, we expect the probability of heads and tails to each be 0.5. Given 100 flips, we expect 50 heads and 50 tails.\n\nObserved Frequencies:\nHeads: (100 - 45 = 55)\nTails: (45)\nExpected Frequencies:\nHeads: (50)\nTails: (50)\nThe null hypothesis ((H_0)) is that the coin is fair, i.e., the observed frequencies match the expected frequencies. The alternative hypothesis ((H_a)) is that the coin is biased.\n\nThe chi-square statistic is calculated using the formula:\n\n[ \\chi^2 = \\sum \\frac{(O_i - E_i)^2}{E_i} ]\n\nWhere (O_i) is the observed frequency and (E_i) is the expected frequency.\n\nStep-by-Step Calculation:\nObserved Frequencies:\n\nHeads: (O_1 = 55)\nTails: (O_2 = 45)\nExpected Frequencies:\n\nHeads: (E_1 = 50)\nTails: (E_2 = 50)\nChi-Square Statistic Calculation: [ \\chi^2 = \\sum \\frac{(O_i - E_i)^2}{E_i} = \\frac{(55 - 50)^2}{50} + \\frac{(45 - 50)^2}{50} ] [ \\chi^2 = \\frac{(5)^2}{50} + \\frac{(-5)^2}{50} = \\frac{25}{50} + \\frac{25}{50} = 0.5 + 0.5 = 1.0 ]\n\nDegrees of Freedom: [ \\text{df} = \\text{number of categories} - 1 = 2 - 1 = 1 ]\n\nCritical Value and p-value: Using a chi-square distribution table or a statistical software for (\\chi^2) with 1 degree of freedom and a significance level of 0.05:\n\nThe critical value is approximately (3.841).\nSince (\\chi^2 = 1.0) is less than the critical value (3.841), we fail to reject the null hypothesis.\n\nConclusion:\nThe chi-square statistic is (1.0) and the p-value is greater than (0.05). This means there is not enough evidence to reject the null hypothesis that the coin is fair. Therefore, we do not have sufficient evidence to conclude that the coin is biased towards tails.",
      "metadata": {
        "trusted": true
      },
      "outputs": [],
      "execution_count": null
    },
    {
      "id": "189a752a-6209-4f8a-929a-bd0f4ffdc67e",
      "cell_type": "code",
      "source": "import scipy.stats as stats\n\n# Observed frequencies\nobserved = [55, 45]\n\n# Expected frequencies\nexpected = [50, 50]\n\n# Perform the chi-square goodness of fit test\nchi2_stat, p_value = stats.chisquare(observed, f_exp=expected)\n\nchi2_stat, p_value",
      "metadata": {
        "trusted": true
      },
      "outputs": [
        {
          "execution_count": 9,
          "output_type": "execute_result",
          "data": {
            "text/plain": "(np.float64(1.0), np.float64(0.31731050786291115))"
          },
          "metadata": {}
        }
      ],
      "execution_count": 9
    },
    {
      "id": "3bbe8e9a-f68a-43ff-b094-5ae062c29cfc",
      "cell_type": "code",
      "source": "",
      "metadata": {
        "trusted": true
      },
      "outputs": [],
      "execution_count": null
    },
    {
      "id": "2a9cb671-84f9-429e-b119-0f31832ab89c",
      "cell_type": "code",
      "source": "Q9. A study was conducted to determine if there is an association between smoking status (smoker or non-smoker) and lung cancer diagnosis (yes or no). The results are shown in the contingency table below. Conduct a chi-square test for independence to determine if there is a significant association between smoking status and lung cancer diagnosis.\n\n Lung Cancer: Yes       Lung Cancer: No\nSmoker 60 140\n\nNon-smoker 30 170\n\nUse a significance level of 0.05.",
      "metadata": {
        "trusted": true
      },
      "outputs": [],
      "execution_count": null
    },
    {
      "id": "823bd6f6-06e7-43d2-9bc9-b7e1e73ea914",
      "cell_type": "code",
      "source": "ANSWER:----\n\nTo determine if there is a significant association between smoking status and lung cancer diagnosis, we can use the chi-square test for independence. This test compares the observed frequencies in a contingency table with the expected frequencies if there were no association between the two variables.\n\nHere is the given contingency table:\n\nLung Cancer: Yes\tLung Cancer: No\nSmoker\t60\t140\nNon-smoker\t30\t170\nThe null hypothesis ((H_0)) is that smoking status and lung cancer diagnosis are independent (no association). The alternative hypothesis ((H_a)) is that smoking status and lung cancer diagnosis are not independent (there is an association).\n\nStep-by-Step Calculation:\nObserved Frequencies (O):\n\nSmoker, Lung Cancer: Yes = 60\nSmoker, Lung Cancer: No = 140\nNon-smoker, Lung Cancer: Yes = 30\nNon-smoker, Lung Cancer: No = 170\nExpected Frequencies (E): The expected frequency for each cell is calculated using the formula: [ E_{ij} = \\frac{(\\text{row total}_i \\times \\text{column total}_j)}{\\text{grand total}} ]\n\nLet's calculate the expected frequencies:\n\nTotal number of smokers: (60 + 140 = 200)\nTotal number of non-smokers: (30 + 170 = 200)\nTotal number of lung cancer diagnoses: (60 + 30 = 90)\nTotal number of no lung cancer diagnoses: (140 + 170 = 310)\nGrand total: (60 + 140 + 30 + 170 = 400)\nExpected frequencies:\n\n(E_{11} = \\frac{(200 \\times 90)}{400} = 45)\n(E_{12} = \\frac{(200 \\times 310)}{400} = 155)\n(E_{21} = \\frac{(200 \\times 90)}{400} = 45)\n(E_{22} = \\frac{(200 \\times 310)}{400} = 155)\nChi-Square Statistic ((\\chi^2)): [ \\chi^2 = \\sum \\frac{(O_{ij} - E_{ij})^2}{E_{ij}} ] [ \\chi^2 = \\frac{(60 - 45)^2}{45} + \\frac{(140 - 155)^2}{155} + \\frac{(30 - 45)^2}{45} + \\frac{(170 - 155)^2}{155} ] [ \\chi^2 = \\frac{15^2}{45} + \\frac{(-15)^2}{155} + \\frac{(-15)^2}{45} + \\frac{15^2}{155} ] [ \\chi^2 = \\frac{225}{45} + \\frac{225}{155} + \\frac{225}{45} + \\frac{225}{155} ] [ \\chi^2 = 5 + 1.45 + 5 + 1.45 = 12.9 ]\n\nDegrees of Freedom (df): [ \\text{df} = (r - 1) \\times (c - 1) = (2 - 1) \\times (2 - 1) = 1 ]\n\nCritical Value and p-value: Using a chi-square distribution table or a statistical software for (\\chi^2) with 1 degree of freedom and a significance level of 0.05:\n\nThe critical value is approximately (3.841).\nSince (\\chi^2 = 12.9) is greater than the critical value (3.841), we reject the null hypothesis.\n\nConclusion:\nThe chi-square statistic is (12.9) and the p-value is less than (0.05). This means there is sufficient evidence to reject the null hypothesis and conclude that there is a significant association between smoking status and lung cancer diagnosis.",
      "metadata": {
        "trusted": true
      },
      "outputs": [],
      "execution_count": null
    },
    {
      "id": "9fd3850c-4129-4b07-b9ba-b8b7ea634fbf",
      "cell_type": "code",
      "source": "import numpy as np\nimport scipy.stats as stats\n\n# Contingency table\nobserved = np.array([[60, 140],\n                     [30, 170]])\n\n# Perform the chi-square test\nchi2_stat, p_val, dof, expected = stats.chi2_contingency(observed)\n\nchi2_stat, p_val, dof, expected",
      "metadata": {
        "trusted": true
      },
      "outputs": [
        {
          "execution_count": 10,
          "output_type": "execute_result",
          "data": {
            "text/plain": "(np.float64(12.057347670250895),\n np.float64(0.0005158863863703744),\n 1,\n array([[ 45., 155.],\n        [ 45., 155.]]))"
          },
          "metadata": {}
        }
      ],
      "execution_count": 10
    },
    {
      "id": "47cbf962-89da-4a4a-b23d-28895d75fed6",
      "cell_type": "code",
      "source": "",
      "metadata": {
        "trusted": true
      },
      "outputs": [],
      "execution_count": null
    },
    {
      "id": "09162bf4-695f-4dfd-a451-403ecdfea79b",
      "cell_type": "code",
      "source": "Q10. A study was conducted to determine if the proportion of people who prefer milk chocolate, dark chocolate, or white chocolate is different in the U.S. versus the U.K. A random sample of 500 people from the U.S. and a random sample of 500 people from the U.K. were surveyed. The results are shown in the contingency table below. Conduct a chi-square test for independence to determine if there is a significant association between chocolate preference and country of origin.\n\n                 Milk Chocolate         Dark Chocolate       White Chocolate\nU.S. (n=500) 200 150 150 U.K. (n=500) 225 175 100\n\nUse a significance level of 0.01.",
      "metadata": {
        "trusted": true
      },
      "outputs": [],
      "execution_count": null
    },
    {
      "id": "09054887-36f6-4dc6-88ad-818c3ad23066",
      "cell_type": "code",
      "source": "ANSWER:---\n\nTo determine if there is a significant association between chocolate preference and country of origin, we will use the chi-square test for independence. This test compares the observed frequencies in a contingency table with the expected frequencies if there were no association between the two variables.\n\nGiven Contingency Table:\nMilk Chocolate\tDark Chocolate\tWhite Chocolate\nU.S.\t200\t150\t150\nU.K.\t225\t175\t100\nThe null hypothesis ((H_0)) is that chocolate preference and country of origin are independent. The alternative hypothesis ((H_a)) is that chocolate preference and country of origin are not independent.\n\nStep-by-Step Calculation:\nObserved Frequencies (O):\n\nU.S., Milk Chocolate: 200\nU.S., Dark Chocolate: 150\nU.S., White Chocolate: 150\nU.K., Milk Chocolate: 225\nU.K., Dark Chocolate: 175\nU.K., White Chocolate: 100\nTotal Counts:\n\nTotal for U.S.: (200 + 150 + 150 = 500)\nTotal for U.K.: (225 + 175 + 100 = 500)\nTotal for Milk Chocolate: (200 + 225 = 425)\nTotal for Dark Chocolate: (150 + 175 = 325)\nTotal for White Chocolate: (150 + 100 = 250)\nGrand Total: (500 + 500 = 1000)\nExpected Frequencies (E): The expected frequency for each cell is calculated using the formula: [ E_{ij} = \\frac{(\\text{row total}_i \\times \\text{column total}_j)}{\\text{grand total}} ]\n\nExpected frequencies:\n\n(E_{11} = \\frac{(500 \\times 425)}{1000} = 212.5)\n(E_{12} = \\frac{(500 \\times 325)}{1000} = 162.5)\n(E_{13} = \\frac{(500 \\times 250)}{1000} = 125.0)\n(E_{21} = \\frac{(500 \\times 425)}{1000} = 212.5)\n(E_{22} = \\frac{(500 \\times 325)}{1000} = 162.5)\n(E_{23} = \\frac{(500 \\times 250)}{1000} = 125.0)\nChi-Square Statistic ((\\chi^2)): [ \\chi^2 = \\sum \\frac{(O_{ij} - E_{ij})^2}{E_{ij}} ] [ \\chi^2 = \\frac{(200 - 212.5)^2}{212.5} + \\frac{(150 - 162.5)^2}{162.5} + \\frac{(150 - 125.0)^2}{125.0} + \\frac{(225 - 212.5)^2}{212.5} + \\frac{(175 - 162.5)^2}{162.5} + \\frac{(100 - 125.0)^2}{125.0} ] [ \\chi^2 = \\frac{(-12.5)^2}{212.5} + \\frac{(-12.5)^2}{162.5} + \\frac{25^2}{125.0} + \\frac{12.5^2}{212.5} + \\frac{12.5^2}{162.5} + \\frac{(-25)^2}{125.0} ] [ \\chi^2 = \\frac{156.25}{212.5} + \\frac{156.25}{162.5} + \\frac{625}{125.0} + \\frac{156.25}{212.5} + \\frac{156.25}{162.5} + \\frac{625}{125.0} ] [ \\chi^2 = 0.735 + 0.962 + 5.0 + 0.735 + 0.962 + 5.0 = 13.394 ]\n\nDegrees of Freedom (df): [ \\text{df} = (r - 1) \\times (c - 1) = (2 - 1) \\times (3 - 1) = 2 ]\n\nCritical Value and p-value: Using a chi-square distribution table or a statistical software for (\\chi^2) with 2 degrees of freedom and a significance level of 0.01:\n\nThe critical value is approximately (9.21).\nSince (\\chi^2 = 13.394) is greater than the critical value (9.21), we reject the null hypothesis.\n\nConclusion:\nThe chi-square statistic is (13.394) and the p-value is less than (0.01). This means there is sufficient evidence to reject the null hypothesis and conclude that there is a significant association between chocolate preference and country of origin.\n\n",
      "metadata": {
        "trusted": true
      },
      "outputs": [],
      "execution_count": null
    },
    {
      "id": "91f31496-9d32-42b2-971e-e6fa9d4250f8",
      "cell_type": "code",
      "source": "import numpy as np\nimport scipy.stats as stats\n\n# Contingency table\nobserved = np.array([[200, 150, 150],\n                     [225, 175, 100]])\n\n# Perform the chi-square test\nchi2_stat, p_val, dof, expected = stats.chi2_contingency(observed)\n\nchi2_stat, p_val, dof, expected",
      "metadata": {
        "trusted": true
      },
      "outputs": [
        {
          "execution_count": 11,
          "output_type": "execute_result",
          "data": {
            "text/plain": "(np.float64(13.393665158371041),\n np.float64(0.0012348168997745918),\n 2,\n array([[212.5, 162.5, 125. ],\n        [212.5, 162.5, 125. ]]))"
          },
          "metadata": {}
        }
      ],
      "execution_count": 11
    },
    {
      "id": "21a5736b-ab35-450a-8268-4edc7e669685",
      "cell_type": "code",
      "source": "",
      "metadata": {
        "trusted": true
      },
      "outputs": [],
      "execution_count": null
    },
    {
      "id": "4c7a3c40-cf8b-4c0d-8af9-10c0e664c173",
      "cell_type": "code",
      "source": "Q11. A random sample of 30 people was selected from a population with an unknown mean and standard deviation. The sample mean was found to be 72 and the sample standard deviation was found to be 10. Conduct a hypothesis test to determine if the population mean is significantly different from 70. Use a significance level of 0.05.",
      "metadata": {
        "trusted": true
      },
      "outputs": [],
      "execution_count": null
    },
    {
      "id": "a5eac3ca-d0de-49d3-9db3-bac3ed65d0b0",
      "cell_type": "code",
      "source": "ANSWER:---\n\nTo conduct a hypothesis test to determine if the population mean is significantly different from 70, we will follow these steps:\n\nStep 1: State the hypotheses\n\nNull hypothesis (H₀): The population mean is equal to 70. [ H₀: \\mu = 70 ]\n\nAlternative hypothesis (H₁): The population mean is not equal to 70. [ H₁: \\mu \\neq 70 ]\n\nStep 2: Set the significance level\n\nGiven: Significance level (α) = 0.05\n\nStep 3: Identify the appropriate test and assumptions\n\nSince the population standard deviation (( \\sigma )) is unknown and the sample size (n = 30) is relatively small, we will use a t-test for a single sample.\n\nStep 4: Calculate the test statistic\n\nThe test statistic for a one-sample t-test is calculated as: [ t = \\frac{\\bar{x} - \\mu₀}{s/\\sqrt{n}} ] where:\n\n( \\bar{x} ) is the sample mean,\n( \\mu₀ ) is the hypothesized population mean under the null hypothesis,\n( s ) is the sample standard deviation,\n( n ) is the sample size.\nGiven:\n\n( \\bar{x} = 72 ) (sample mean)\n( s = 10 ) (sample standard deviation)\n( \\mu₀ = 70 ) (population mean under the null hypothesis)\n( n = 30 ) (sample size)\nCalculate ( t ): [ t = \\frac{72 - 70}{10/\\sqrt{30}} ] [ t = \\frac{2}{10/\\sqrt{30}} ] [ t = \\frac{2 \\cdot \\sqrt{30}}{10} ] [ t = \\frac{2 \\cdot 5.477}{10} ] [ t = 1.0954 ]\n\nStep 5: Determine the critical value\n\nDegrees of freedom (( df )) for a one-sample t-test is ( df = n - 1 = 30 - 1 = 29 ).\n\nFor a two-tailed test at a significance level of 0.05, the critical values can be found using a t-distribution table or a statistical software. For ( df = 29 ): [ t_{\\alpha/2, df} = t_{0.025, 29} \\approx \\pm 2.045 ]\n\nStep 6: Make a decision\n\nCompare the calculated t-statistic with the critical value:\n\nIf ( |t| > t_{\\alpha/2, df} ), reject the null hypothesis ( H₀ ).\nIf ( |t| \\leq t_{\\alpha/2, df} ), do not reject the null hypothesis ( H₀ ).\nHere, [ |1.0954| \\leq 2.045 ]\n\nSo, ( |t| \\leq t_{0.025, 29} ).\n\nTherefore, we do not reject the null hypothesis ( H₀ ).\n\nStep 7: Conclusion\n\nBased on the sample data and the hypothesis test at a 5% significance level, there is not enough evidence to conclude that the population mean is significantly different from 70.\n\n",
      "metadata": {
        "trusted": true
      },
      "outputs": [],
      "execution_count": null
    },
    {
      "id": "c5e58af3-07c2-48a3-813d-3a4e474ebfb8",
      "cell_type": "code",
      "source": "import numpy as np\nfrom scipy import stats\n\n# Sample data\nsample_mean = 72\nsample_std = 10\npop_mean = 70\nn = 30\n\n# Calculate the t-statistic\nt_statistic = (sample_mean - pop_mean) / (sample_std / np.sqrt(n))\n\n# Degrees of freedom\ndf = n - 1\n\n# Two-tailed test at 5% significance level\nalpha = 0.05\nt_critical = stats.t.ppf(1 - alpha/2, df)\n\n# Print the results\nprint(f\"T-statistic: {t_statistic}\")\nprint(f\"Critical value: {t_critical}\")\n\n# Compare t-statistic with critical value\nif np.abs(t_statistic) > t_critical:\n    print(\"Reject null hypothesis: There is sufficient evidence to conclude that the population mean is significantly different from 70.\")\nelse:\n    print(\"Do not reject null hypothesis: There is not enough evidence to conclude that the population mean is significantly different from 70.\")",
      "metadata": {
        "trusted": true
      },
      "outputs": [
        {
          "name": "stdout",
          "output_type": "stream",
          "text": "T-statistic: 1.0954451150103321\nCritical value: 2.045229642132703\nDo not reject null hypothesis: There is not enough evidence to conclude that the population mean is significantly different from 70.\n"
        }
      ],
      "execution_count": 12
    }
  ]
}